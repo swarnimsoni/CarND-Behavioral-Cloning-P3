{
 "cells": [
  {
   "cell_type": "markdown",
   "metadata": {},
   "source": [
    "# Rubric 1: \n",
    "### Are all required files submitted?\n",
    "\n",
    "This submission includes a model.py file, drive.py, udacityModel12.h5 a writeup report and video.mp4.\n",
    "\n",
    "* Code : all the code that is requred to load the data and train a successful deep network is in this notebook.\n",
    "* drive.py : drive.py has been modified a little, since many iterations of improvements were performed since the beginning.\n",
    "* modle.h5 : the file used to make the final video of car driving autonomously uses _ udacityModel12.h5.\n",
    "* video.mp4 : video file can be found as _ autonomousDriving.mp4 _"
   ]
  },
  {
   "cell_type": "markdown",
   "metadata": {},
   "source": [
    "# Rubric 2: \n",
    "### Is the code functional?\n",
    "\n",
    "This code is fully functional and final successfully trained deep network is produced by code in this repository.\n"
   ]
  },
  {
   "cell_type": "markdown",
   "metadata": {},
   "source": [
    "# Rubric 3:\n",
    "\n",
    "### Is the code usable and readable?\n",
    "\n",
    "I have commented whole code as needed.\n",
    "\n",
    "#### Generators:\n",
    "Generators turned out to be essential for training this model, because I didn't have access to a machine with lots of main memory or processing power. So, generating small chunks of data and loading only that much proved to be absolute necessity.\n",
    "\n",
    "Not only in this project, I think generators are very useful tool to train models on large data."
   ]
  },
  {
   "cell_type": "markdown",
   "metadata": {},
   "source": [
    "# Rubric 4: \n",
    "\n",
    "### Has an appropriate model architecture been employed for the task?\n",
    "\n",
    "I have tried to closely follow architecutre of NVidia model.\n",
    "\n",
    "Before settling on NVidia model, I experimented with different architectures and colour spaces. Small trainnig time was important because I have a normal computer (with i7 processor and 8 GB RAM, without any graphics card), which caused me to resize input images to neural network to (200, 66) rather than the default (320, 160)."
   ]
  },
  {
   "cell_type": "markdown",
   "metadata": {},
   "source": [
    "# Rubric 5:\n",
    "\n",
    "### Has an attempt been made to reduce overfitting of the model?\n",
    "\n",
    "I experimented with drop out layers and l2 regularizers, and in the end decided to use l2 regularizers only.\n",
    "\n",
    "Training and validation set have been divided into 80% and 20% ratio.\n",
    "\n",
    "# Rubric 6:\n",
    "\n",
    "### Have the model parameters been tuned appropriately?\n",
    "\n",
    "I have used Adam optimizer, hence learning parameter was chosen automatically.\n",
    "\n",
    "# Rubric 7:\n",
    "\n",
    "### Is the training data chosen appropriately?\n",
    "\n",
    "Initially I decided to collect the data on my own. I started the simulator with fastest graphics rendering and lowest resolution (due to processing power limitations). I recorded the data for one round track 1 and trained the model, however, my car was doing really bad on taking turns. I decided to modify the data.\n",
    "\n",
    "Later I started to use images from left and right camera as well. This caused my data set to grow 3 times the original (nice), and later I used flipping all 3 camera images, that caused my data to grow 6 times (very nice).\n",
    "\n",
    "#### Data Flattening\n",
    "After experimenting a litte with training, facing the problems at turning and reading Udacity forums, I came to understand that having a lot of samples of 0 steering angle ( or close to 0) was the reason the car was not taking turns well in simulator. I decided to reduce these kind of samples where were making the model biased towards driving straight.\n",
    "\n",
    "The data set was distributed into 25 bins. Average number of samples per bins was calculated, and this number is taken as maximum each bin can have after processing. A rejection probability is computed as (1 - samplesInBin/AverageSamplesPerBin), and if a bin has less than average samples, then its rejection probability is set to 0 (i.e. keep all the samples in the bin). This rejection probability is used to reject surplus of samples, where were making the model biased.\n",
    "\n",
    "# Rubric 8:\n",
    "\n",
    "### Is the solution design documented?\n",
    "\n",
    "# Rubric 9:\n",
    "\n",
    "### Is the model architecture documented?\n",
    "\n",
    "# Rubric 10:\n",
    "\n",
    "### Is the creation of the training dataset and training process documented?\n",
    "\n",
    "# Rubric 11:\n",
    "\n",
    "### Is the car able to navigate correctly on test data?"
   ]
  },
  {
   "cell_type": "code",
   "execution_count": 2,
   "metadata": {},
   "outputs": [
    {
     "name": "stderr",
     "output_type": "stream",
     "text": [
      "Using TensorFlow backend.\n"
     ]
    }
   ],
   "source": [
    "import argparse\n",
    "import os\n",
    "import csv\n",
    "import cv2\n",
    "import numpy as np\n",
    "import sklearn\n",
    "from sklearn.model_selection import train_test_split\n",
    "\n",
    "from keras.models import Sequential, load_model\n",
    "from keras.layers import Lambda, Dense, Flatten, Cropping2D, Convolution2D, Dropout\n",
    "from keras.regularizers import l2\n",
    "from keras.callbacks import ModelCheckpoint, Callback\n",
    "\n",
    "import matplotlib.pyplot as plt\n",
    "\n",
    "from myModels import *"
   ]
  },
  {
   "cell_type": "markdown",
   "metadata": {},
   "source": [
    "### Helping Functions:"
   ]
  },
  {
   "cell_type": "code",
   "execution_count": 2,
   "metadata": {
    "collapsed": true
   },
   "outputs": [],
   "source": [
    "def getCsvLines(path):\n",
    "    # read image paths and corresponding steering angles\n",
    "    samples =[]\n",
    "    firstLine = True\n",
    "    with open(path) as csvfile:\n",
    "        reader = csv.reader(csvfile)\n",
    "        for i_line in reader:\n",
    "            if firstLine==True:\n",
    "                firstLine=False\n",
    "            else:\n",
    "                samples.append(i_line)\n",
    "    return samples\n",
    "\n",
    "\n",
    "def prepareTrainingData(path, useAllCameraImages=False, cameraCorrectionFactor = 0.15):\n",
    "    imagePaths = []\n",
    "    angles = []\n",
    "    camera_angle_factor = [0,+1,-1]\n",
    "\n",
    "    samplesLines = getCsvLines(path)\n",
    "    if useAllCameraImages:\n",
    "        imagesToUse = 3\n",
    "    else:\n",
    "        imagesToUse = 1\n",
    "\n",
    "    for i_line in samplesLines:\n",
    "\n",
    "        for i in range(imagesToUse):\n",
    "            i_imagePath = i_line[i].split('/')[-1]\n",
    "            imagePaths.append(i_imagePath)\n",
    "            i_angle = float(i_line[3])+cameraCorrectionFactor*camera_angle_factor[i]\n",
    "            angles.append(i_angle)        \n",
    "\n",
    "    samples = list(zip(imagePaths, angles))\n",
    "    return samples\n",
    "\n",
    "def generator(samples, dataDir, batch_size=32,color_space='RGB', useFlipImages=False):\n",
    "    num_samples = len(samples)\n",
    "    baseDir = dataDir +'/IMG/'\n",
    "\n",
    "    while 1: # Loop forever so the generator never terminates\n",
    "        samples = sklearn.utils.shuffle(samples)\n",
    "        for offset in range(0, num_samples, batch_size):\n",
    "            batch_samples = samples[offset:offset+batch_size]\n",
    "            \n",
    "            images, angles = [], []\n",
    "            for i_imagePath, i_angle in batch_samples:\n",
    "                \n",
    "                #images.append(cv2.cvtColor(cv2.imread(name), cv2.COLOR_BGR2RGB))\n",
    "                i_image = cv2.imread(baseDir+i_imagePath)\n",
    "                #print(name)\n",
    "                # crop the image\n",
    "                i_image = i_image[51:141,:]\n",
    "                \n",
    "                # resize the image to 66 by 200\n",
    "                i_image = cv2.resize(i_image, (200, 66))\n",
    "                \n",
    "                if color_space == 'RGB':\n",
    "                    i_image = cv2.cvtColor(i_image, cv2.COLOR_BGR2RGB)\n",
    "                elif color_space == 'HSV':\n",
    "                    i_image = cv2.cvtColor(i_image, cv2.COLOR_BGR2HSV)\n",
    "                elif color_space == 'LUV':\n",
    "                    i_image = cv2.cvtColor(i_image, cv2.COLOR_BGR2LUV)\n",
    "                elif color_space == 'HLS':\n",
    "                    i_image = cv2.cvtColor(i_image, cv2.COLOR_BGR2HLS)\n",
    "                elif color_space == 'YUV':\n",
    "                    i_image = cv2.cvtColor(i_image, cv2.COLOR_BGR2YUV)\n",
    "                elif color_space == 'YCrCb':\n",
    "                    i_image = cv2.cvtColor(i_image, cv2.COLOR_BGR2YCrCb)\n",
    "                        \n",
    "                images.append(i_image)\n",
    "                # add steering angle according to which camera it came from i.e. center, left or right\n",
    "                angles.append(i_angle)\n",
    "                \n",
    "                if useFlipImages:\n",
    "                    # add flipped images also\n",
    "                    images.append(np.fliplr(i_image))\n",
    "                    angles.append(-i_angle)\n",
    "\n",
    "\n",
    "                # trim image to only see section with road\n",
    "                X_train = np.array(images)\n",
    "                y_train = np.array(angles)\n",
    "\n",
    "                #print(X_train.size,y_train.size)\n",
    "                yield sklearn.utils.shuffle(X_train, y_train)\n"
   ]
  },
  {
   "cell_type": "markdown",
   "metadata": {},
   "source": [
    "### Training Models"
   ]
  },
  {
   "cell_type": "code",
   "execution_count": 3,
   "metadata": {
    "collapsed": true
   },
   "outputs": [],
   "source": [
    "# replicate nVidia pipeline\n",
    "def createNVidiaModel(activation_function='elu', dropOutRate=0.0, inputImageShape=(66,200,3)):\n",
    "\n",
    "    model = Sequential()\n",
    "\n",
    "    # add normalization and cropping layers\n",
    "    #model.add(Cropping2D(cropping=((50,20),(0,0)), input_shape = (160,320,3)))\n",
    "\n",
    "    # resize images to 66*200\n",
    "    #    model.add(Lambda(lambda x:\n",
    "    # normalise the input images so that input values to NN varies from -0.5 to 0.5    \n",
    "    model.add(Lambda(lambda x: x/255-0.5, input_shape = inputImageShape))\n",
    "    model.add(Convolution2D(24,5,5, subsample=(2,2), activation=activation_function))\n",
    "    model.add(Dropout(dropOutRate))    \n",
    "    model.add(Convolution2D(36,5,5, subsample=(2,2), activation=activation_function))\n",
    "    model.add(Dropout(dropOutRate))\n",
    "    model.add(Convolution2D(48,5,5, subsample=(2,2), activation=activation_function))\n",
    "    model.add(Dropout(dropOutRate))\n",
    "    model.add(Convolution2D(64,3,3, subsample=(1,1), activation=activation_function))\n",
    "    model.add(Dropout(dropOutRate))\n",
    "    model.add(Convolution2D(64,3,3, subsample=(1,1), activation=activation_function))\n",
    "    model.add(Dropout(dropOutRate))\n",
    "    model.add(Flatten())\n",
    "    model.add(Dense(1164))\n",
    "    model.add(Dense(100))\n",
    "    model.add(Dense(50))\n",
    "    model.add(Dense(10))\n",
    "    model.add(Dense(1))\n",
    "\n",
    "    return model\n",
    "\n",
    "\n",
    "def smallerNVidiaModel(activation_function='elu', dropOutRate=0.0, inputImageShape=(66,200,3)):\n",
    "\n",
    "    model = Sequential()\n",
    "\n",
    "    # add normalization and cropping layers\n",
    "    #model.add(Cropping2D(cropping=((50,20),(0,0)), input_shape = (160,320,3)))\n",
    "\n",
    "    # resize images to 66*200\n",
    "    #    model.add(Lambda(lambda x:\n",
    "    # normalise the input images so that input values to NN varies from -0.5 to 0.5    \n",
    "    model.add(Lambda(lambda x: x/255-0.5, input_shape = inputImageShape))\n",
    "    model.add(Convolution2D(24,5,5, subsample=(2,2), activation=activation_function, W_regularizer=l2(0.001)))\n",
    "    model.add(Dropout(dropOutRate))    \n",
    "    model.add(Convolution2D(36,5,5, subsample=(2,2), activation=activation_function, W_regularizer=l2(0.001)))\n",
    "    model.add(Dropout(dropOutRate))\n",
    "    model.add(Convolution2D(48,5,5, subsample=(2,2), activation=activation_function, W_regularizer=l2(0.001)))\n",
    "    model.add(Dropout(dropOutRate))\n",
    "    model.add(Convolution2D(64,3,3, subsample=(1,1), activation=activation_function, W_regularizer=l2(0.001)))\n",
    "    model.add(Dropout(dropOutRate))\n",
    "    model.add(Convolution2D(64,3,3, subsample=(1,1), activation=activation_function, W_regularizer=l2(0.001)))\n",
    "    model.add(Dropout(dropOutRate))\n",
    "    model.add(Flatten())\n",
    "#    model.add(Dense(1164))\n",
    "    model.add(Dense(100, W_regularizer=l2(0.001)))\n",
    "    model.add(Dense(50, W_regularizer=l2(0.001)))\n",
    "    model.add(Dense(10, W_regularizer=l2(0.001)))\n",
    "    model.add(Dense(1))\n",
    "\n",
    "    return model\n"
   ]
  },
  {
   "cell_type": "markdown",
   "metadata": {},
   "source": [
    "## Training the model\n",
    "\n",
    "### Load the data"
   ]
  },
  {
   "cell_type": "code",
   "execution_count": 4,
   "metadata": {},
   "outputs": [
    {
     "name": "stdout",
     "output_type": "stream",
     "text": [
      "24108\n",
      "('center_2016_12_01_13_30_48_287.jpg', 0.0)\n"
     ]
    }
   ],
   "source": [
    "#    dataDir = './fastDriveData/'\n",
    "#dataDir = './myCapturedData/'\n",
    "#dataDir = './dataWithKeyboard/'\n",
    "dataDir = './data/'\n",
    "\n",
    "samples = prepareTrainingData(dataDir+'/driving_log.csv', useAllCameraImages=True)\n",
    "\n",
    "print(len(samples))\n",
    "print(samples[0])"
   ]
  },
  {
   "cell_type": "markdown",
   "metadata": {},
   "source": [
    "## Visualize the data"
   ]
  },
  {
   "cell_type": "code",
   "execution_count": 5,
   "metadata": {},
   "outputs": [
    {
     "data": {
      "image/png": "[encoded data removed]",
      "text/plain": [
       "<matplotlib.figure.Figure at 0x7ff121ae1ef0>"
      ]
     },
     "metadata": {},
     "output_type": "display_data"
    },
    {
     "data": {
      "image/png": "[encoded data removed]",
      "text/plain": [
       "<matplotlib.figure.Figure at 0x7ff11eb26ac8>"
      ]
     },
     "metadata": {},
     "output_type": "display_data"
    },
    {
     "data": {
      "image/png": "[encoded data removed]",
      "text/plain": [
       "<matplotlib.figure.Figure at 0x7ff11ec24c88>"
      ]
     },
     "metadata": {},
     "output_type": "display_data"
    },
    {
     "data": {
      "image/png": "[encoded data removed]",
      "text/plain": [
       "<matplotlib.figure.Figure at 0x7ff11e8f3668>"
      ]
     },
     "metadata": {},
     "output_type": "display_data"
    },
    {
     "name": "stdout",
     "output_type": "stream",
     "text": [
      "Average number of data points per bin :1928.64\n"
     ]
    }
   ],
   "source": [
    "filePath = dataDir+'/driving_log.csv'\n",
    "lines=getCsvLines(filePath) \n",
    "steeringAngles=[]\n",
    "bins = 25\n",
    "\n",
    "originalData = []\n",
    "originalFlippedData = []\n",
    "originalCLRData = []\n",
    "originalFlippedCLRData = []\n",
    "camera_angle_factor = [0,+1,-1]\n",
    "camera_correction_factor = 0.25\n",
    "\n",
    "for i_line in lines:        \n",
    "    # use images from all cameras, center, left and right\n",
    "    i_angleCenter = float(i_line[3])\n",
    "    \n",
    "    originalData.append(i_angleCenter)\n",
    "    \n",
    "    for i in range(3):\n",
    "        #print(i_line)\n",
    "        # add steering angle according to which camera it came from i.e. center, left or right\n",
    "        i_angle=i_angleCenter+camera_correction_factor*camera_angle_factor[i]\n",
    "        \n",
    "        originalCLRData.append(i_angle)\n",
    "        originalFlippedCLRData.extend([i_angle,-i_angle])\n",
    "originalFlippedData.extend(originalData)\n",
    "originalFlippedData.extend([-i for i in originalData])\n",
    "\n",
    "#originalFlippedCLRData.extend([i for i in originalCLRData])\n",
    "#originalFlippedCLRData.extend([-i for i in originalCLRData])\n",
    "#convert images and steering angles into numpy arrays\n",
    "\n",
    "for steeringAngles, title in zip([originalData, originalFlippedData, originalCLRData, originalFlippedCLRData],['Center Data', 'Center + Flipped', 'Center+Left+Right', 'Center+Left+Right+Flipped']):\n",
    "    \n",
    "    y_train = np.array(steeringAngles)\n",
    "    plt.figure(figsize=(6,6))\n",
    "    plt.hist(y_train, bins, facecolor='b', alpha=0.75)\n",
    "    plt.title(title, fontsize=16)\n",
    "    plt.xlabel('Steering Angles')\n",
    "    plt.ylabel('Frequency')\n",
    "    plt.grid(True)\n",
    "    plt.show()\n",
    "\n",
    "print('Average number of data points per bin :{}'.format(len(originalFlippedCLRData)/bins))"
   ]
  },
  {
   "cell_type": "markdown",
   "metadata": {},
   "source": [
    "## Data Normalization"
   ]
  },
  {
   "cell_type": "code",
   "execution_count": 6,
   "metadata": {},
   "outputs": [
    {
     "name": "stdout",
     "output_type": "stream",
     "text": [
      "24108\n",
      "numBins [-1.0926954  -1.00298758 -0.91327977 -0.82357195 -0.73386414 -0.64415632\n",
      " -0.5544485  -0.46474069 -0.37503287 -0.28532506 -0.19561724 -0.10590942\n",
      " -0.01620161  0.07350621  0.16321402  0.25292184  0.34262966  0.43233747\n",
      "  0.52204529  0.6117531   0.70146092  0.79116874  0.88087655  0.97058437\n",
      "  1.06029218  1.15      ], length = 26\n",
      "[   4    6    3   10   21   59   96  279  653  988 5535 1585 6299 5669 1397\n",
      "  900  298  212   45   30    9    5    1    2    2] 25\n"
     ]
    }
   ],
   "source": [
    "anglesOnly = [i[1] for i in samples]\n",
    "print(len(anglesOnly))\n",
    "dataHistogram, numBins = np.histogram(anglesOnly, bins)\n",
    "\n",
    "print('numBins {}, length = {}'.format( numBins, len(numBins)))\n",
    "print(dataHistogram, len(dataHistogram))"
   ]
  },
  {
   "cell_type": "code",
   "execution_count": 7,
   "metadata": {},
   "outputs": [
    {
     "name": "stdout",
     "output_type": "stream",
     "text": [
      "average Samples per bins : 964.32\n",
      "[0.0, 0.0, 0.0, 0.0, 0.0, 0.0, 0.0, 0.0, 0.0, 0.023967611336032313, 0.82577777777777772, 0.39159621451104099, 0.84690903317986987, 0.82989592520726763, 0.3097208303507516, 0.0, 0.0, 0.0, 0.0, 0.0, 0.0, 0.0, 0.0, 0.0, 0.0]\n",
      "Before and after distribution normalization, # of samples: 24108 and 8381\n"
     ]
    }
   ],
   "source": [
    "# find out keep probs for each bin\n",
    "rejectProb= [0.0]*len(dataHistogram)\n",
    "\n",
    "averageSamplesPerBin = len(anglesOnly)/len(dataHistogram)\n",
    "\n",
    "print('average Samples per bins : {}'.format(averageSamplesPerBin))\n",
    "\n",
    "for i in range(len(dataHistogram)):\n",
    "    if averageSamplesPerBin < dataHistogram[i]:\n",
    "        rejectProb[i]= 1- averageSamplesPerBin/dataHistogram[i]\n",
    "\n",
    "print(rejectProb)\n",
    "newSamples=[]\n",
    "for i in range(len(anglesOnly)):\n",
    "    for j in range(len(dataHistogram)):\n",
    "        if anglesOnly[i] > numBins[j] and anglesOnly[i] <= numBins[j+1]:\n",
    "            if np.random.rand() > rejectProb[j]:\n",
    "                newSamples.append(samples[i])\n",
    "\n",
    "print('Before and after distribution normalization, # of samples: {} and {}'.format(len(samples),len(newSamples)))                \n",
    "#samples = newSamples"
   ]
  },
  {
   "cell_type": "markdown",
   "metadata": {},
   "source": [
    "### Visualization after data flattening"
   ]
  },
  {
   "cell_type": "code",
   "execution_count": 8,
   "metadata": {},
   "outputs": [
    {
     "data": {
      "image/png": "[encoded data removed]",
      "text/plain": [
       "<matplotlib.figure.Figure at 0x7ff121ff40b8>"
      ]
     },
     "metadata": {},
     "output_type": "display_data"
    }
   ],
   "source": [
    "samples=newSamples\n",
    "y_train = np.array([i[1] for i in samples])\n",
    "plt.figure(figsize=(6,6))\n",
    "plt.hist(y_train, bins, facecolor='r', alpha=0.75)\n",
    "plt.title('After distribution flattening', fontsize=16)\n",
    "plt.xlabel('Steering Angles')\n",
    "plt.ylabel('Frequency')\n",
    "plt.grid(True)\n",
    "plt.show()"
   ]
  },
  {
   "cell_type": "code",
   "execution_count": 9,
   "metadata": {
    "collapsed": true
   },
   "outputs": [],
   "source": [
    "## Set some parameters\n",
    "newModel = True\n",
    "modelFile = './udacityModel.h5'\n",
    "colorSpace='RGB'\n",
    "flipImagesLR = False\n"
   ]
  },
  {
   "cell_type": "code",
   "execution_count": 10,
   "metadata": {},
   "outputs": [
    {
     "name": "stdout",
     "output_type": "stream",
     "text": [
      "Creating new model\n"
     ]
    },
    {
     "name": "stderr",
     "output_type": "stream",
     "text": [
      "/home/manoj/.conda/envs/tfcpu/lib/python3.6/site-packages/ipykernel_launcher.py:44: UserWarning: Update your `Conv2D` call to the Keras 2 API: `Conv2D(24, (5, 5), activation=\"elu\", strides=(2, 2), kernel_regularizer=<keras.reg...)`\n",
      "/home/manoj/.conda/envs/tfcpu/lib/python3.6/site-packages/ipykernel_launcher.py:46: UserWarning: Update your `Conv2D` call to the Keras 2 API: `Conv2D(36, (5, 5), activation=\"elu\", strides=(2, 2), kernel_regularizer=<keras.reg...)`\n",
      "/home/manoj/.conda/envs/tfcpu/lib/python3.6/site-packages/ipykernel_launcher.py:48: UserWarning: Update your `Conv2D` call to the Keras 2 API: `Conv2D(48, (5, 5), activation=\"elu\", strides=(2, 2), kernel_regularizer=<keras.reg...)`\n",
      "/home/manoj/.conda/envs/tfcpu/lib/python3.6/site-packages/ipykernel_launcher.py:50: UserWarning: Update your `Conv2D` call to the Keras 2 API: `Conv2D(64, (3, 3), activation=\"elu\", strides=(1, 1), kernel_regularizer=<keras.reg...)`\n",
      "/home/manoj/.conda/envs/tfcpu/lib/python3.6/site-packages/ipykernel_launcher.py:52: UserWarning: Update your `Conv2D` call to the Keras 2 API: `Conv2D(64, (3, 3), activation=\"elu\", strides=(1, 1), kernel_regularizer=<keras.reg...)`\n",
      "/home/manoj/.conda/envs/tfcpu/lib/python3.6/site-packages/ipykernel_launcher.py:56: UserWarning: Update your `Dense` call to the Keras 2 API: `Dense(100, kernel_regularizer=<keras.reg...)`\n",
      "/home/manoj/.conda/envs/tfcpu/lib/python3.6/site-packages/ipykernel_launcher.py:57: UserWarning: Update your `Dense` call to the Keras 2 API: `Dense(50, kernel_regularizer=<keras.reg...)`\n",
      "/home/manoj/.conda/envs/tfcpu/lib/python3.6/site-packages/ipykernel_launcher.py:58: UserWarning: Update your `Dense` call to the Keras 2 API: `Dense(10, kernel_regularizer=<keras.reg...)`\n"
     ]
    }
   ],
   "source": [
    "if newModel:\n",
    "    print('Creating new model')\n",
    "    model = smallerNVidiaModel()\n",
    "#createNVidiaModel()\n",
    "    model.compile(loss='mse', optimizer='adam')\n",
    "else:\n",
    "    print('Using old model from {}'.format(modelFile))\n",
    "    model = load_model(modelFile)"
   ]
  },
  {
   "cell_type": "code",
   "execution_count": 11,
   "metadata": {},
   "outputs": [
    {
     "name": "stderr",
     "output_type": "stream",
     "text": [
      "/home/manoj/.conda/envs/tfcpu/lib/python3.6/site-packages/ipykernel_launcher.py:9: UserWarning: The semantics of the Keras 2 argument  `steps_per_epoch` is not the same as the Keras 1 argument `samples_per_epoch`. `steps_per_epoch` is the number of batches to draw from the generator at each epoch. Update your method calls accordingly.\n",
      "  if __name__ == '__main__':\n",
      "/home/manoj/.conda/envs/tfcpu/lib/python3.6/site-packages/ipykernel_launcher.py:9: UserWarning: Update your `fit_generator` call to the Keras 2 API: `fit_generator(<generator..., validation_data=<generator..., callbacks=[<keras.ca..., steps_per_epoch=6704, epochs=20, validation_steps=1677)`\n",
      "  if __name__ == '__main__':\n"
     ]
    },
    {
     "name": "stdout",
     "output_type": "stream",
     "text": [
      "Epoch 1/20\n",
      "6704/6704 [==============================] - 554s - loss: 0.0612 - val_loss: 0.0387\n",
      "Epoch 2/20\n",
      "6704/6704 [==============================] - 547s - loss: 0.0258 - val_loss: 0.0421\n",
      "Epoch 3/20\n",
      "6704/6704 [==============================] - 546s - loss: 0.0248 - val_loss: 0.0561\n",
      "Epoch 4/20\n",
      "6704/6704 [==============================] - 550s - loss: 0.0260 - val_loss: 0.0420\n",
      "Epoch 5/20\n",
      "6704/6704 [==============================] - 550s - loss: 0.0256 - val_loss: 0.0354\n",
      "Epoch 6/20\n",
      "6704/6704 [==============================] - 550s - loss: 0.0258 - val_loss: 0.0360\n",
      "Epoch 7/20\n",
      "6704/6704 [==============================] - 551s - loss: 0.0251 - val_loss: 0.0337\n",
      "Epoch 8/20\n",
      "6704/6704 [==============================] - 550s - loss: 0.0260 - val_loss: 0.0349\n",
      "Epoch 9/20\n",
      "6704/6704 [==============================] - 549s - loss: 0.0254 - val_loss: 0.0355\n",
      "Epoch 10/20\n",
      "6704/6704 [==============================] - 547s - loss: 0.0264 - val_loss: 0.0349\n",
      "Epoch 11/20\n",
      "6704/6704 [==============================] - 547s - loss: 0.0260 - val_loss: 0.0464\n",
      "Epoch 12/20\n",
      "6704/6704 [==============================] - 547s - loss: 0.0254 - val_loss: 0.0411\n",
      "Epoch 13/20\n",
      "6704/6704 [==============================] - 547s - loss: 0.0261 - val_loss: 0.0289\n",
      "Epoch 14/20\n",
      "6704/6704 [==============================] - 547s - loss: 0.0266 - val_loss: 0.0308\n",
      "Epoch 15/20\n",
      "6704/6704 [==============================] - 548s - loss: 0.0262 - val_loss: 0.0399\n",
      "Epoch 16/20\n",
      "6704/6704 [==============================] - 548s - loss: 0.0262 - val_loss: 0.0322\n",
      "Epoch 17/20\n",
      "6704/6704 [==============================] - 552s - loss: 0.0296 - val_loss: 0.0374\n",
      "Epoch 18/20\n",
      "6704/6704 [==============================] - 550s - loss: 0.0285 - val_loss: 0.0680\n",
      "Epoch 19/20\n",
      "6704/6704 [==============================] - 561s - loss: 0.0275 - val_loss: 0.0332\n",
      "Epoch 20/20\n",
      "6704/6704 [==============================] - 548s - loss: 0.0253 - val_loss: 0.0368\n"
     ]
    }
   ],
   "source": [
    "train_samples, validation_samples = train_test_split(samples, test_size=0.2)\n",
    "\n",
    "# compile and train the model using the generator function\n",
    "train_generator      = generator(train_samples,      dataDir, batch_size=32, color_space=colorSpace, useFlipImages=flipImagesLR)\n",
    "validation_generator = generator(validation_samples, dataDir, batch_size=32, color_space=colorSpace, useFlipImages=flipImagesLR)\n",
    "\n",
    "saveModelPerEpoch = ModelCheckpoint('udacityModel{epoch:02d}.h5')\n",
    "numEpochsToTrain=20\n",
    "history_object=model.fit_generator(train_generator, samples_per_epoch= len(train_samples), validation_data=validation_generator, nb_val_samples=len(validation_samples), nb_epoch=numEpochsToTrain, callbacks=[saveModelPerEpoch])\n",
    "model.save(modelFile)\n",
    "\n"
   ]
  },
  {
   "cell_type": "markdown",
   "metadata": {},
   "source": [
    "## Learning graph"
   ]
  },
  {
   "cell_type": "code",
   "execution_count": null,
   "metadata": {},
   "outputs": [],
   "source": [
    "# plot loss validation and training\n",
    "plt.plot(history_object.history['loss'])\n",
    "plt.plot(history_object.history['val_loss'])\n",
    "plt.title('model mean squared error loss')\n",
    "plt.ylabel('mean squared error loss')\n",
    "plt.xlabel('epoch')\n",
    "plt.legend(['training set', 'validation set'], loc='upper right')\n",
    "plt.grid(True)\n",
    "plt.show()\n",
    "\n",
    "print(model.summary())"
   ]
  },
  {
   "cell_type": "markdown",
   "metadata": {},
   "source": [
    "## Run autonomously in simulator"
   ]
  },
  {
   "cell_type": "code",
   "execution_count": 13,
   "metadata": {
    "collapsed": true
   },
   "outputs": [],
   "source": [
    "%%capture\n",
    "#runInSimCmd = 'drive.py {}'.format(modelFile)\n",
    "%run -i drive.py udacityModel.h5"
   ]
  }
 ],
 "metadata": {
  "kernelspec": {
   "display_name": "Python 3",
   "language": "python",
   "name": "python3"
  },
  "language_info": {
   "codemirror_mode": {
    "name": "ipython",
    "version": 3
   },
   "file_extension": ".py",
   "mimetype": "text/x-python",
   "name": "python",
   "nbconvert_exporter": "python",
   "pygments_lexer": "ipython3",
   "version": "3.6.2"
  }
 },
 "nbformat": 4,
 "nbformat_minor": 2
}
